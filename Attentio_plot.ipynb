{
 "cells": [
  {
   "cell_type": "code",
   "execution_count": 1,
   "metadata": {
    "ExecuteTime": {
     "end_time": "2019-04-05T00:31:38.319463Z",
     "start_time": "2019-04-05T00:31:13.691958Z"
    }
   },
   "outputs": [
    {
     "name": "stderr",
     "output_type": "stream",
     "text": [
      "C:\\Users\\djaym7\\Anaconda3\\lib\\site-packages\\h5py\\__init__.py:36: FutureWarning: Conversion of the second argument of issubdtype from `float` to `np.floating` is deprecated. In future, it will be treated as `np.float64 == np.dtype(float).type`.\n",
      "  from ._conv import register_converters as _register_converters\n"
     ]
    }
   ],
   "source": [
    "import pickle\n",
    "from sklearn.metrics import confusion_matrix,accuracy_score\n",
    "from sklearn.preprocessing import StandardScaler\n",
    "import tensorflow.keras.backend as K\n",
    "#import keras\n",
    "import tensorflow\n",
    "import matplotlib.pyplot as plt\n",
    "import numpy as np\n",
    "import pandas as pd\n",
    "import seaborn as sn\n",
    "import librosa\n",
    "import librosa.display\n",
    "import os \n",
    "import sys\n",
    "from sklearn.preprocessing import LabelBinarizer\n",
    "labels = ['ANG','DIS','FEA','HAP','NEU','SAD']\n",
    "%matplotlib inline"
   ]
  },
  {
   "cell_type": "code",
   "execution_count": 2,
   "metadata": {
    "ExecuteTime": {
     "end_time": "2019-04-05T00:31:38.337424Z",
     "start_time": "2019-04-05T00:31:38.319463Z"
    }
   },
   "outputs": [],
   "source": [
    "encoder = LabelBinarizer()\n",
    "\n",
    "def loadData(id):\n",
    "\n",
    "    with open(f'C:\\\\Users\\\\djaym7\\\\Desktop\\\\Github\\\\EmotionRecognition\\\\data_soundnet\\\\y_test_{id}','rb') as f:\n",
    "        y_test=np.array(pickle.load(f))\n",
    "\n",
    "    with open(f'C:\\\\Users\\\\djaym7\\\\Desktop\\\\Github\\\\EmotionRecognition\\\\data_soundnet\\\\X_train_{id}','rb') as f:\n",
    "        X_train=np.array(pickle.load(f))\n",
    "    with open(f'C:\\\\Users\\\\djaym7\\\\Desktop\\\\Github\\\\EmotionRecognition\\\\data_soundnet\\\\X_test_{id}','rb') as f:\n",
    "        X_test = np.array(pickle.load(f))\n",
    "\n",
    "    \n",
    "    print(f'id : {id}')\n",
    "    y_test = encoder.fit_transform(y_test)\n",
    "\n",
    "    scalers = {}\n",
    "\n",
    "    scalers = {}\n",
    "    for k in range(X_train.shape[2]):\n",
    "        scalers[k] = StandardScaler()\n",
    "        X_train[:, k, :] = scalers[k].fit_transform(X_train[:, k, :])    \n",
    "    for j in range(X_test.shape[2]):\n",
    "        X_test[:, j, :] = scalers[j].transform(X_test[:, j, :])\n",
    "\n",
    "   \n",
    "    return X_test,y_test\n"
   ]
  },
  {
   "cell_type": "code",
   "execution_count": 3,
   "metadata": {
    "ExecuteTime": {
     "end_time": "2019-04-05T00:31:40.124766Z",
     "start_time": "2019-04-05T00:31:38.341422Z"
    }
   },
   "outputs": [
    {
     "name": "stdout",
     "output_type": "stream",
     "text": [
      "id : 1015\n",
      "(82, 499, 13) (82, 6)\n"
     ]
    }
   ],
   "source": [
    "X_test,y_test=loadData(1015)\n",
    "print(X_test.shape,y_test.shape)"
   ]
  },
  {
   "cell_type": "code",
   "execution_count": 4,
   "metadata": {
    "ExecuteTime": {
     "end_time": "2019-04-05T00:31:45.228035Z",
     "start_time": "2019-04-05T00:31:40.128763Z"
    }
   },
   "outputs": [
    {
     "name": "stdout",
     "output_type": "stream",
     "text": [
      "WARNING:tensorflow:From C:\\Users\\djaym7\\Anaconda3\\lib\\site-packages\\tensorflow\\python\\ops\\resource_variable_ops.py:435: colocate_with (from tensorflow.python.framework.ops) is deprecated and will be removed in a future version.\n",
      "Instructions for updating:\n",
      "Colocations handled automatically by placer.\n",
      "WARNING:tensorflow:From C:\\Users\\djaym7\\Anaconda3\\lib\\site-packages\\tensorflow\\python\\keras\\layers\\core.py:143: calling dropout (from tensorflow.python.ops.nn_ops) with keep_prob is deprecated and will be removed in a future version.\n",
      "Instructions for updating:\n",
      "Please use `rate` instead of `keep_prob`. Rate should be set to `rate = 1 - keep_prob`.\n",
      "WARNING:tensorflow:From C:\\Users\\djaym7\\Anaconda3\\lib\\site-packages\\tensorflow\\python\\ops\\math_ops.py:3066: to_int32 (from tensorflow.python.ops.math_ops) is deprecated and will be removed in a future version.\n",
      "Instructions for updating:\n",
      "Use tf.cast instead.\n"
     ]
    }
   ],
   "source": [
    "hid_post_act = 96\n",
    "s0_t = np.zeros((X_test.shape[0], hid_post_act))\n",
    "c0_t = np.zeros((X_test.shape[0], hid_post_act))\n",
    "model = tensorflow.keras.models.load_model(r\"C:\\Users\\djaym7\\Desktop\\Github\\EmotionRecognition\\data_soundnet\"+f'/UNI{1015}.h5')"
   ]
  },
  {
   "cell_type": "code",
   "execution_count": 5,
   "metadata": {
    "ExecuteTime": {
     "end_time": "2019-04-05T00:31:47.589907Z",
     "start_time": "2019-04-05T00:31:45.228035Z"
    },
    "scrolled": true
   },
   "outputs": [],
   "source": [
    "y_pred = model.predict([X_test,s0_t,c0_t])\n",
    "y_pred_final_uni,y_test_final=[],[]\n",
    "for i in range((y_pred.shape[0])):\n",
    "        y_pred_final_uni.append(np.argmax(y_pred[i]))\n",
    "        y_test_final.append(np.argmax(y_test[i]))\n",
    "for i in range(len(y_pred_final_uni)):\n",
    "    y_pred_final_uni[i] = labels[int(y_pred_final_uni[i])]"
   ]
  },
  {
   "cell_type": "code",
   "execution_count": 6,
   "metadata": {
    "ExecuteTime": {
     "end_time": "2019-04-05T00:31:51.539926Z",
     "start_time": "2019-04-05T00:31:47.589907Z"
    }
   },
   "outputs": [],
   "source": [
    "hid_post_act = 96\n",
    "s0_t = np.zeros((X_test.shape[0], hid_post_act))\n",
    "c0_t = np.zeros((X_test.shape[0], hid_post_act))\n",
    "model2 = tensorflow.keras.models.load_model(r\"C:\\Users\\djaym7\\Desktop\\Github\\EmotionRecognition\\data_soundnet\"+f'/BI{1015}.h5')"
   ]
  },
  {
   "cell_type": "code",
   "execution_count": 7,
   "metadata": {
    "ExecuteTime": {
     "end_time": "2019-04-05T00:31:52.277118Z",
     "start_time": "2019-04-05T00:31:51.539926Z"
    }
   },
   "outputs": [],
   "source": [
    "y_pred = model2.predict([X_test,s0_t,c0_t])\n",
    "y_pred_final_BI,y_test_final=[],[]\n",
    "for i in range((y_pred.shape[0])):\n",
    "        y_pred_final_BI.append(np.argmax(y_pred[i]))\n",
    "        y_test_final.append(np.argmax(y_test[i]))\n",
    "for i in range(len(y_pred_final_BI)):\n",
    "    y_pred_final_BI[i] = labels[int(y_pred_final_BI[i])]\n"
   ]
  },
  {
   "cell_type": "code",
   "execution_count": 8,
   "metadata": {
    "ExecuteTime": {
     "end_time": "2019-04-05T00:31:52.750744Z",
     "start_time": "2019-04-05T00:31:52.277118Z"
    }
   },
   "outputs": [
    {
     "ename": "NameError",
     "evalue": "name 'save' is not defined",
     "output_type": "error",
     "traceback": [
      "\u001b[1;31m---------------------------------------------------------------------------\u001b[0m",
      "\u001b[1;31mNameError\u001b[0m                                 Traceback (most recent call last)",
      "\u001b[1;32m<ipython-input-8-c46e9f421235>\u001b[0m in \u001b[0;36m<module>\u001b[1;34m()\u001b[0m\n\u001b[1;32m----> 1\u001b[1;33m \u001b[0mnp\u001b[0m\u001b[1;33m.\u001b[0m\u001b[0mc_\u001b[0m\u001b[1;33m[\u001b[0m\u001b[0my_pred_final_uni\u001b[0m\u001b[1;33m,\u001b[0m\u001b[0my_pred_final_BI\u001b[0m\u001b[1;33m,\u001b[0m\u001b[0msave\u001b[0m\u001b[1;33m]\u001b[0m\u001b[1;33m\u001b[0m\u001b[0m\n\u001b[0m",
      "\u001b[1;31mNameError\u001b[0m: name 'save' is not defined"
     ]
    }
   ],
   "source": [
    "np.c_[y_pred_final_uni,y_pred_final_BI,save]"
   ]
  },
  {
   "cell_type": "code",
   "execution_count": 11,
   "metadata": {
    "ExecuteTime": {
     "end_time": "2019-04-05T00:33:28.424647Z",
     "start_time": "2019-04-05T00:33:28.138371Z"
    },
    "scrolled": true
   },
   "outputs": [],
   "source": [
    "activations = []\n",
    "inp = model.input\n",
    "i_output = model.layers[7].output #8 for bi and 7 for uni\n",
    "fun = K.function(inp + [K.learning_phase()], [i_output])\n",
    "out = fun([X_test,s0_t,c0_t])\n",
    "out = np.array(out)\n",
    "output = np.array(out).reshape(out.shape[1],out.shape[2],out.shape[3])\n"
   ]
  },
  {
   "cell_type": "code",
   "execution_count": 12,
   "metadata": {
    "ExecuteTime": {
     "end_time": "2019-04-05T00:33:30.137183Z",
     "start_time": "2019-04-05T00:33:29.775842Z"
    }
   },
   "outputs": [],
   "source": [
    "activations = []\n",
    "inp = model2.input\n",
    "i_output = model2.layers[8].output #8 for bi and 7 for uni\n",
    "fun = K.function(inp + [K.learning_phase()], [i_output])\n",
    "out = fun([X_test,s0_t,c0_t])\n",
    "out = np.array(out)\n",
    "output2 = np.array(out).reshape(out.shape[1],out.shape[2],out.shape[3])\n"
   ]
  },
  {
   "cell_type": "code",
   "execution_count": null,
   "metadata": {
    "ExecuteTime": {
     "end_time": "2019-04-05T00:31:52.760737Z",
     "start_time": "2019-04-05T00:31:13.740Z"
    }
   },
   "outputs": [],
   "source": [
    "output"
   ]
  },
  {
   "cell_type": "code",
   "execution_count": null,
   "metadata": {
    "ExecuteTime": {
     "end_time": "2019-04-05T00:31:52.762735Z",
     "start_time": "2019-04-05T00:31:13.744Z"
    }
   },
   "outputs": [],
   "source": [
    "print(output[0].shape,X_test[0].shape)"
   ]
  },
  {
   "cell_type": "code",
   "execution_count": 13,
   "metadata": {
    "ExecuteTime": {
     "end_time": "2019-04-05T00:33:32.860074Z",
     "start_time": "2019-04-05T00:33:32.798090Z"
    }
   },
   "outputs": [],
   "source": [
    "FileNames = []\n",
    "labels = ['ANG','DIS','FEA','HAP','NEU','SAD']\n",
    "yLabels = []\n",
    "address=r'C:\\Users\\djaym7\\Desktop\\Github\\EmotionRecognition\\AudioWAV/'\n",
    "total_num_people = []\n",
    "for i in range(1,92):\n",
    "    if i <10:\n",
    "        total_num_people.append('100'+str(i))\n",
    "    else:\n",
    "        total_num_people.append('10'+str(i))\n",
    "#create y\n",
    "for i in os.listdir(address):\n",
    "    for label in labels:\n",
    "        if label in i:\n",
    "            FileNames.append((i,label))\n",
    "            #yLabels.append(label)\n"
   ]
  },
  {
   "cell_type": "code",
   "execution_count": 10,
   "metadata": {
    "ExecuteTime": {
     "end_time": "2019-04-05T00:32:18.205128Z",
     "start_time": "2019-04-05T00:32:18.119178Z"
    }
   },
   "outputs": [],
   "source": [
    "save=[]\n",
    "for fname,_ in FileNames:\n",
    "    for id in total_num_people:\n",
    "        if id=='1015':\n",
    "            if id in fname:\n",
    "                #print(id,fname)\n",
    "                save.append(fname)"
   ]
  },
  {
   "cell_type": "code",
   "execution_count": 14,
   "metadata": {
    "ExecuteTime": {
     "end_time": "2019-04-05T00:33:35.997723Z",
     "start_time": "2019-04-05T00:33:35.989731Z"
    }
   },
   "outputs": [
    {
     "data": {
      "text/plain": [
       "'1015_DFA_ANG_XX.wav'"
      ]
     },
     "execution_count": 14,
     "metadata": {},
     "output_type": "execute_result"
    }
   ],
   "source": [
    "filenumber = 0\n",
    "save[filenumber]"
   ]
  },
  {
   "cell_type": "code",
   "execution_count": 15,
   "metadata": {
    "ExecuteTime": {
     "end_time": "2019-04-05T00:33:38.938628Z",
     "start_time": "2019-04-05T00:33:37.716230Z"
    }
   },
   "outputs": [],
   "source": [
    "sound_clip,sr=librosa.load(address+save[filenumber])\n",
    "max_size = 110361\n",
    "sound_clip=np.pad(sound_clip,pad_width=(0,max_size-len(sound_clip)),mode='constant')\n",
    "#sound_clip.shape=(110361,) #sr = 22050"
   ]
  },
  {
   "cell_type": "code",
   "execution_count": 16,
   "metadata": {
    "ExecuteTime": {
     "end_time": "2019-04-05T00:33:39.215467Z",
     "start_time": "2019-04-05T00:33:39.133516Z"
    }
   },
   "outputs": [],
   "source": [
    "from itertools import chain\n",
    "indices=list(range(0,110361,220))\n",
    "attenPlusSound=[]\n",
    "atten_full_BI = []\n",
    "for i in range(499):\n",
    "    atten_full_BI.append((sound_clip[indices[i]:indices[i+1]]*0)+output2[filenumber][i])\n",
    "    attenPlusSound.append(sound_clip[indices[i]:indices[i+1]]*output2[filenumber][i])\n",
    "attenPlusSound = np.asarray(list(chain.from_iterable(attenPlusSound)))\n",
    "atten_full_BI= np.asarray(list(chain.from_iterable(atten_full_BI)))\n",
    "\n",
    "\n"
   ]
  },
  {
   "cell_type": "code",
   "execution_count": 17,
   "metadata": {
    "ExecuteTime": {
     "end_time": "2019-04-05T00:33:40.309975Z",
     "start_time": "2019-04-05T00:33:40.239961Z"
    }
   },
   "outputs": [],
   "source": [
    "from itertools import chain\n",
    "indices=list(range(0,110361,220))\n",
    "attenPlusSound=[]\n",
    "atten_full = []\n",
    "for i in range(499):\n",
    "    atten_full.append((sound_clip[indices[i]:indices[i+1]]*0)+output[filenumber][i])\n",
    "    attenPlusSound.append(sound_clip[indices[i]:indices[i+1]]*output[filenumber][i])\n",
    "attenPlusSound = np.asarray(list(chain.from_iterable(attenPlusSound)))\n",
    "atten_full= np.asarray(list(chain.from_iterable(atten_full)))\n",
    "\n",
    "\n"
   ]
  },
  {
   "cell_type": "code",
   "execution_count": 85,
   "metadata": {
    "ExecuteTime": {
     "end_time": "2019-04-05T01:07:05.057931Z",
     "start_time": "2019-04-05T01:07:02.974658Z"
    }
   },
   "outputs": [
    {
     "data": {
      "image/png": "[encoded data removed]",
      "text/plain": [
       "<Figure size 576x576 with 4 Axes>"
      ]
     },
     "metadata": {},
     "output_type": "display_data"
    }
   ],
   "source": [
    "spectogram = librosa.amplitude_to_db(np.abs(librosa.stft(sound_clip[:50000])), ref=np.max)\n",
    "\n",
    "x = [0,0.0025,0.0050,0.0075,0.01,0.0125,0.015]\n",
    "xi = [i for i in range(0, len(x))]\n",
    "xx = [-0.5,0,0.5,1]\n",
    "\n",
    "\n",
    "plt.figure(figsize=(8,8))\n",
    "plt.subplots_adjust(hspace=0.75)\n",
    "ax1=plt.subplot(4, 1, 1)\n",
    "ax1.set_title(f'Raw Waveform - {save[filenumber]}')\n",
    "ax1.plot(sound_clip[:50000],linewidth=1,scaley=True)\n",
    "plt.yticks(xx)\n",
    "ax1.set_xlabel('Samples')\n",
    "ax1.xaxis.set_label_coords(0.5,-0.3)\n",
    "plt.figtext(0.368,0.87, 'DON\\'T', fontsize=8, va=\"top\", ha=\"left\")\n",
    "plt.figtext(0.47,0.87, 'FORGET', fontsize=8, va=\"top\", ha=\"left\")\n",
    "plt.figtext(0.557,0.87, 'A', fontsize=8, va=\"top\", ha=\"left\")\n",
    "plt.figtext(0.6,0.87, 'JACKET', fontsize=8, va=\"top\", ha=\"left\")\n",
    "\n",
    "\n",
    "\n",
    "ax3=plt.subplot(4,1,2)\n",
    "ax3.set_title('Spectogram')\n",
    "librosa.display.specshow(spectogram, y_axis='log',ax=ax3)\n",
    "ax3.set_yticks([0,128,512,2048,8192])\n",
    "\n",
    "plt.subplots_adjust(hspace=1)\n",
    "ax2 = plt.subplot(4, 1, 3)\n",
    "ax2.set_title(f'Uni-directional Attention Weights - Predicted Emotion {y_pred_final_uni[filenumber]}')\n",
    "ax2.plot(atten_full[:50000],linewidth=1,scalex=True)\n",
    "ax2.set_xlabel('Samples')\n",
    "ax2.xaxis.set_label_coords(0.5,-0.3)\n",
    "\n",
    "plt.yticks(x)\n",
    "ax4 = plt.subplot(4,1,4)\n",
    "ax4.set_title(f'BI-directional Attention Weights - Predicted Emotion {y_pred_final_BI[filenumber]}')\n",
    "ax4.plot(atten_full_BI[:50000],linewidth=1,scalex=True)\n",
    "ax4.set_xlabel('Samples')\n",
    "ax4.xaxis.set_label_coords(0.5,-0.3)\n",
    "\n",
    "plt.yticks(x)\n",
    "plt.savefig(f'Attention_plot - {save[filenumber][:len(save[filenumber])-4]}')"
   ]
  }
 ],
 "metadata": {
  "kernelspec": {
   "display_name": "Python 3",
   "language": "python",
   "name": "python3"
  },
  "language_info": {
   "codemirror_mode": {
    "name": "ipython",
    "version": 3
   },
   "file_extension": ".py",
   "mimetype": "text/x-python",
   "name": "python",
   "nbconvert_exporter": "python",
   "pygments_lexer": "ipython3",
   "version": "3.6.5"
  }
 },
 "nbformat": 4,
 "nbformat_minor": 2
}
