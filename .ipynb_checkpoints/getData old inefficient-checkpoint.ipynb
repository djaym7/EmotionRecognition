{
 "cells": [
  {
   "cell_type": "code",
   "execution_count": null,
   "metadata": {},
   "outputs": [],
   "source": [
    "import os\n",
    "import numpy as np\n",
    "import python_speech_features as psf\n",
    "import random\n",
    "import pickle\n",
    "import math"
   ]
  },
  {
   "cell_type": "code",
   "execution_count": null,
   "metadata": {},
   "outputs": [],
   "source": [
    "FileNames = []\n",
    "labels = ['ANG','DIS','FEA','HAP','NEU','SAD']\n",
    "yLabels = []\n",
    "address=r'C:\\Users\\djaym7\\Desktop\\Github\\EmotionRecognition\\AudioWAV/'\n",
    "total_num_people = []\n",
    "for i in range(1,92):\n",
    "    if i <10:\n",
    "        total_num_people.append('100'+str(i))\n",
    "    else:\n",
    "        total_num_people.append('10'+str(i))\n",
    "#create y\n",
    "for i in os.listdir(address):\n",
    "    for label in labels:\n",
    "        if label in i:\n",
    "            FileNames.append((i,label))\n",
    "            #yLabels.append(label)"
   ]
  },
  {
   "cell_type": "code",
   "execution_count": null,
   "metadata": {},
   "outputs": [],
   "source": [
    "data=[]\n",
    "\n",
    "for id in total_num_people:\n",
    "    id_data=[]\n",
    "    for fname,label in FileNames:\n",
    "        if id in fname:         \n",
    "            sound_clip,sr= librosa.load(address+fname)\n",
    "            max_size = 110361\n",
    "            sound_clip=np.pad(sound_clip,pad_width=(0,max_size-len(sound_clip)),mode='constant')\n",
    "            features = extract_features(sound_clip,sr)\n",
    "            id_data.append((features,label))        \n",
    "    data.append((id_data,id))\n",
    "data = np.array(data)"
   ]
  },
  {
   "cell_type": "code",
   "execution_count": null,
   "metadata": {},
   "outputs": [],
   "source": [
    "X_test=[]\n",
    "X_train=[]\n",
    "y_test=[]\n",
    "y_train=[]\n",
    "for id in total_num_people:\n",
    "    for value,vid in data:\n",
    "        if vid == id:\n",
    "            X_test.append(value[0][0])\n",
    "            y_test.append(value[0][1])\n",
    "        else:\n",
    "            X_train.append(value[0][0])\n",
    "            y_train.append(value[0][1])\n",
    "X_train=np.array(X_train)\n",
    "X_test=np.array(X_test)\n",
    "y_train=np.array(y_train)\n",
    "y_test=np.array(y_test)\n",
    "print('X_train :',X_train.shape,'\\ny_train :',y_train.shape,'\\nX_test :',X_test.shape,'\\ny_test :',y_test.shape)"
   ]
  },
  {
   "cell_type": "code",
   "execution_count": null,
   "metadata": {},
   "outputs": [],
   "source": [
    "with open('X_test','wb') as f:\n",
    "    pickle.dump(X_test,f)\n",
    "with open('X_train','wb') as f:\n",
    "    pickle.dump(X_train,f)\n",
    "with open('y_train','wb') as f:\n",
    "    pickle.dump(y_train,f)\n",
    "with open('y_test','wb') as f:\n",
    "    pickle.dump(y_test,f)"
   ]
  }
 ],
 "metadata": {
  "kernelspec": {
   "display_name": "Python 3",
   "language": "python",
   "name": "python3"
  },
  "language_info": {
   "codemirror_mode": {
    "name": "ipython",
    "version": 3
   },
   "file_extension": ".py",
   "mimetype": "text/x-python",
   "name": "python",
   "nbconvert_exporter": "python",
   "pygments_lexer": "ipython3",
   "version": "3.6.5"
  }
 },
 "nbformat": 4,
 "nbformat_minor": 2
}
