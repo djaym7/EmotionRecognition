{
 "cells": [
  {
   "cell_type": "code",
   "execution_count": 1,
   "metadata": {},
   "outputs": [
    {
     "name": "stderr",
     "output_type": "stream",
     "text": [
      "C:\\Users\\djaym7\\Anaconda3\\lib\\site-packages\\h5py\\__init__.py:36: FutureWarning: Conversion of the second argument of issubdtype from `float` to `np.floating` is deprecated. In future, it will be treated as `np.float64 == np.dtype(float).type`.\n",
      "  from ._conv import register_converters as _register_converters\n",
      "Using TensorFlow backend.\n"
     ]
    }
   ],
   "source": [
    "import librosa\n",
    "import python_speech_features as psf\n",
    "import numpy as np\n",
    "import matplotlib.pyplot as plt\n",
    "#import librosa.display\n",
    "import os\n",
    "import pandas as pd\n",
    "import Soundnetgetdata as snd"
   ]
  },
  {
   "cell_type": "code",
   "execution_count": 2,
   "metadata": {},
   "outputs": [],
   "source": [
    "address=r'C:\\Users\\djaym7\\Desktop\\Github\\EmotionRecognition\\AudioWAV/'"
   ]
  },
  {
   "cell_type": "code",
   "execution_count": 3,
   "metadata": {},
   "outputs": [],
   "source": [
    "FileNames = []\n",
    "labels = ['ANG','DIS','FEA','HAP','NEU','SAD']\n",
    "yLabels = []\n",
    "#address=r'C:\\Users\\djaym7\\Desktop\\Github\\EmotionRecognition\\AudioWAV/'\n",
    "total_num_people = []\n",
    "for i in range(1,92):\n",
    "    if i <10:\n",
    "        total_num_people.append('100'+str(i))\n",
    "    else:\n",
    "        total_num_people.append('10'+str(i))\n",
    "#create y\n",
    "for i in os.listdir(address):\n",
    "    for label in labels:\n",
    "        if label in i:\n",
    "            FileNames.append((i,label))\n",
    "            #yLabels.append(label)\n",
    "\n"
   ]
  },
  {
   "cell_type": "code",
   "execution_count": 6,
   "metadata": {
    "collapsed": true
   },
   "outputs": [
    {
     "name": "stdout",
     "output_type": "stream",
     "text": [
      "C:\\Users\\djaym7\\Desktop\\Github\\EmotionRecognition\\AudioWAV/1001_DFA_ANG_XX.wav\n",
      "C:\\Users\\djaym7\\Desktop\\Github\\EmotionRecognition\\AudioWAV/1002_DFA_ANG_XX.wav\n",
      "C:\\Users\\djaym7\\Desktop\\Github\\EmotionRecognition\\AudioWAV/1003_DFA_ANG_XX.wav\n",
      "C:\\Users\\djaym7\\Desktop\\Github\\EmotionRecognition\\AudioWAV/1004_DFA_ANG_XX.wav\n",
      "C:\\Users\\djaym7\\Desktop\\Github\\EmotionRecognition\\AudioWAV/1005_DFA_ANG_XX.wav\n",
      "C:\\Users\\djaym7\\Desktop\\Github\\EmotionRecognition\\AudioWAV/1006_DFA_ANG_XX.wav\n",
      "C:\\Users\\djaym7\\Desktop\\Github\\EmotionRecognition\\AudioWAV/1007_DFA_ANG_XX.wav\n",
      "C:\\Users\\djaym7\\Desktop\\Github\\EmotionRecognition\\AudioWAV/1008_DFA_ANG_XX.wav\n",
      "C:\\Users\\djaym7\\Desktop\\Github\\EmotionRecognition\\AudioWAV/1009_DFA_ANG_XX.wav\n",
      "C:\\Users\\djaym7\\Desktop\\Github\\EmotionRecognition\\AudioWAV/1010_DFA_ANG_XX.wav\n",
      "C:\\Users\\djaym7\\Desktop\\Github\\EmotionRecognition\\AudioWAV/1011_DFA_ANG_XX.wav\n",
      "C:\\Users\\djaym7\\Desktop\\Github\\EmotionRecognition\\AudioWAV/1012_DFA_ANG_XX.wav\n",
      "C:\\Users\\djaym7\\Desktop\\Github\\EmotionRecognition\\AudioWAV/1013_DFA_ANG_XX.wav\n",
      "C:\\Users\\djaym7\\Desktop\\Github\\EmotionRecognition\\AudioWAV/1014_DFA_ANG_XX.wav\n",
      "C:\\Users\\djaym7\\Desktop\\Github\\EmotionRecognition\\AudioWAV/1015_DFA_ANG_XX.wav\n",
      "C:\\Users\\djaym7\\Desktop\\Github\\EmotionRecognition\\AudioWAV/1016_DFA_ANG_XX.wav\n",
      "C:\\Users\\djaym7\\Desktop\\Github\\EmotionRecognition\\AudioWAV/1017_DFA_ANG_XX.wav\n",
      "C:\\Users\\djaym7\\Desktop\\Github\\EmotionRecognition\\AudioWAV/1018_DFA_ANG_XX.wav\n",
      "C:\\Users\\djaym7\\Desktop\\Github\\EmotionRecognition\\AudioWAV/1019_DFA_ANG_XX.wav\n",
      "C:\\Users\\djaym7\\Desktop\\Github\\EmotionRecognition\\AudioWAV/1020_DFA_ANG_XX.wav\n",
      "C:\\Users\\djaym7\\Desktop\\Github\\EmotionRecognition\\AudioWAV/1021_DFA_ANG_XX.wav\n",
      "C:\\Users\\djaym7\\Desktop\\Github\\EmotionRecognition\\AudioWAV/1022_DFA_ANG_XX.wav\n"
     ]
    },
    {
     "ename": "KeyboardInterrupt",
     "evalue": "",
     "output_type": "error",
     "traceback": [
      "\u001b[1;31m---------------------------------------------------------------------------\u001b[0m",
      "\u001b[1;31mKeyboardInterrupt\u001b[0m                         Traceback (most recent call last)",
      "\u001b[1;32m<ipython-input-6-b6601afc9f79>\u001b[0m in \u001b[0;36m<module>\u001b[1;34m()\u001b[0m\n\u001b[0;32m      6\u001b[0m         \u001b[1;32mif\u001b[0m \u001b[0mid\u001b[0m \u001b[1;32min\u001b[0m \u001b[0mfname\u001b[0m\u001b[1;33m:\u001b[0m\u001b[1;33m\u001b[0m\u001b[0m\n\u001b[0;32m      7\u001b[0m             \u001b[0mprint\u001b[0m\u001b[1;33m(\u001b[0m\u001b[0maddress\u001b[0m\u001b[1;33m+\u001b[0m\u001b[0mfname\u001b[0m\u001b[1;33m)\u001b[0m\u001b[1;33m\u001b[0m\u001b[0m\n\u001b[1;32m----> 8\u001b[1;33m             \u001b[0msound_clip\u001b[0m\u001b[1;33m,\u001b[0m\u001b[0msr\u001b[0m\u001b[1;33m=\u001b[0m \u001b[0mlibrosa\u001b[0m\u001b[1;33m.\u001b[0m\u001b[0mload\u001b[0m\u001b[1;33m(\u001b[0m\u001b[0maddress\u001b[0m\u001b[1;33m+\u001b[0m\u001b[0mfname\u001b[0m\u001b[1;33m)\u001b[0m\u001b[1;33m\u001b[0m\u001b[0m\n\u001b[0m\u001b[0;32m      9\u001b[0m             \u001b[0mmax_size\u001b[0m \u001b[1;33m=\u001b[0m \u001b[1;36m110361\u001b[0m\u001b[1;33m\u001b[0m\u001b[0m\n\u001b[0;32m     10\u001b[0m             \u001b[0msound_clip\u001b[0m\u001b[1;33m=\u001b[0m\u001b[0mnp\u001b[0m\u001b[1;33m.\u001b[0m\u001b[0mpad\u001b[0m\u001b[1;33m(\u001b[0m\u001b[0msound_clip\u001b[0m\u001b[1;33m,\u001b[0m\u001b[0mpad_width\u001b[0m\u001b[1;33m=\u001b[0m\u001b[1;33m(\u001b[0m\u001b[1;36m0\u001b[0m\u001b[1;33m,\u001b[0m\u001b[0mmax_size\u001b[0m\u001b[1;33m-\u001b[0m\u001b[0mlen\u001b[0m\u001b[1;33m(\u001b[0m\u001b[0msound_clip\u001b[0m\u001b[1;33m)\u001b[0m\u001b[1;33m)\u001b[0m\u001b[1;33m,\u001b[0m\u001b[0mmode\u001b[0m\u001b[1;33m=\u001b[0m\u001b[1;34m'constant'\u001b[0m\u001b[1;33m)\u001b[0m\u001b[1;33m\u001b[0m\u001b[0m\n",
      "\u001b[1;32m~\\Anaconda3\\lib\\site-packages\\librosa\\core\\audio.py\u001b[0m in \u001b[0;36mload\u001b[1;34m(path, sr, mono, offset, duration, dtype, res_type)\u001b[0m\n\u001b[0;32m    147\u001b[0m \u001b[1;33m\u001b[0m\u001b[0m\n\u001b[0;32m    148\u001b[0m             \u001b[1;31m# tack on the current frame\u001b[0m\u001b[1;33m\u001b[0m\u001b[1;33m\u001b[0m\u001b[0m\n\u001b[1;32m--> 149\u001b[1;33m             \u001b[0my\u001b[0m\u001b[1;33m.\u001b[0m\u001b[0mappend\u001b[0m\u001b[1;33m(\u001b[0m\u001b[0mframe\u001b[0m\u001b[1;33m)\u001b[0m\u001b[1;33m\u001b[0m\u001b[0m\n\u001b[0m\u001b[0;32m    150\u001b[0m \u001b[1;33m\u001b[0m\u001b[0m\n\u001b[0;32m    151\u001b[0m     \u001b[1;32mif\u001b[0m \u001b[0my\u001b[0m\u001b[1;33m:\u001b[0m\u001b[1;33m\u001b[0m\u001b[0m\n",
      "\u001b[1;32m~\\Anaconda3\\lib\\site-packages\\audioread\\rawread.py\u001b[0m in \u001b[0;36m__exit__\u001b[1;34m(self, exc_type, exc_val, exc_tb)\u001b[0m\n\u001b[0;32m    144\u001b[0m \u001b[1;33m\u001b[0m\u001b[0m\n\u001b[0;32m    145\u001b[0m     \u001b[1;32mdef\u001b[0m \u001b[0m__exit__\u001b[0m\u001b[1;33m(\u001b[0m\u001b[0mself\u001b[0m\u001b[1;33m,\u001b[0m \u001b[0mexc_type\u001b[0m\u001b[1;33m,\u001b[0m \u001b[0mexc_val\u001b[0m\u001b[1;33m,\u001b[0m \u001b[0mexc_tb\u001b[0m\u001b[1;33m)\u001b[0m\u001b[1;33m:\u001b[0m\u001b[1;33m\u001b[0m\u001b[0m\n\u001b[1;32m--> 146\u001b[1;33m         \u001b[0mself\u001b[0m\u001b[1;33m.\u001b[0m\u001b[0mclose\u001b[0m\u001b[1;33m(\u001b[0m\u001b[1;33m)\u001b[0m\u001b[1;33m\u001b[0m\u001b[0m\n\u001b[0m\u001b[0;32m    147\u001b[0m         \u001b[1;32mreturn\u001b[0m \u001b[1;32mFalse\u001b[0m\u001b[1;33m\u001b[0m\u001b[0m\n\u001b[0;32m    148\u001b[0m \u001b[1;33m\u001b[0m\u001b[0m\n",
      "\u001b[1;32m~\\Anaconda3\\lib\\site-packages\\audioread\\rawread.py\u001b[0m in \u001b[0;36mclose\u001b[1;34m(self)\u001b[0m\n\u001b[0;32m    106\u001b[0m         \u001b[1;34m\"\"\"Close the underlying file.\"\"\"\u001b[0m\u001b[1;33m\u001b[0m\u001b[0m\n\u001b[0;32m    107\u001b[0m         \u001b[0mself\u001b[0m\u001b[1;33m.\u001b[0m\u001b[0m_file\u001b[0m\u001b[1;33m.\u001b[0m\u001b[0mclose\u001b[0m\u001b[1;33m(\u001b[0m\u001b[1;33m)\u001b[0m\u001b[1;33m\u001b[0m\u001b[0m\n\u001b[1;32m--> 108\u001b[1;33m         \u001b[0mself\u001b[0m\u001b[1;33m.\u001b[0m\u001b[0m_fh\u001b[0m\u001b[1;33m.\u001b[0m\u001b[0mclose\u001b[0m\u001b[1;33m(\u001b[0m\u001b[1;33m)\u001b[0m\u001b[1;33m\u001b[0m\u001b[0m\n\u001b[0m\u001b[0;32m    109\u001b[0m \u001b[1;33m\u001b[0m\u001b[0m\n\u001b[0;32m    110\u001b[0m     \u001b[1;33m@\u001b[0m\u001b[0mproperty\u001b[0m\u001b[1;33m\u001b[0m\u001b[0m\n",
      "\u001b[1;31mKeyboardInterrupt\u001b[0m: "
     ]
    }
   ],
   "source": [
    "#for mfccs\n",
    "data=[]\n",
    "\n",
    "for id in total_num_people:\n",
    "    id_data=[]\n",
    "    for fname,label in FileNames:\n",
    "        if id in fname:  \n",
    "            print(address+fname)\n",
    "            sound_clip,sr= librosa.load(address+fname)\n",
    "            max_size = 110361\n",
    "            sound_clip=np.pad(sound_clip,pad_width=(0,max_size-len(sound_clip)),mode='constant')\n",
    "            mfccs =psf.base.mfcc(sound_clip,samplerate=sr,winlen=0.01,winstep=0.01) #new lib\n",
    "\n",
    "            id_data.append((mfccs,label)) \n",
    "            break\n",
    "    data.append((id_data,id))\n",
    "data = np.array(data)"
   ]
  },
  {
   "cell_type": "code",
   "execution_count": 5,
   "metadata": {
    "collapsed": true
   },
   "outputs": [
    {
     "name": "stdout",
     "output_type": "stream",
     "text": [
      "C:\\Users\\djaym7\\Desktop\\Github\\EmotionRecognition\\AudioWAV/1001_DFA_ANG_XX.wav\n",
      "C:\\Users\\djaym7\\Desktop\\Github\\EmotionRecognition\\AudioWAV/1002_DFA_ANG_XX.wav\n",
      "C:\\Users\\djaym7\\Desktop\\Github\\EmotionRecognition\\AudioWAV/1003_DFA_ANG_XX.wav\n",
      "C:\\Users\\djaym7\\Desktop\\Github\\EmotionRecognition\\AudioWAV/1004_DFA_ANG_XX.wav\n",
      "C:\\Users\\djaym7\\Desktop\\Github\\EmotionRecognition\\AudioWAV/1005_DFA_ANG_XX.wav\n",
      "C:\\Users\\djaym7\\Desktop\\Github\\EmotionRecognition\\AudioWAV/1006_DFA_ANG_XX.wav\n",
      "C:\\Users\\djaym7\\Desktop\\Github\\EmotionRecognition\\AudioWAV/1007_DFA_ANG_XX.wav\n",
      "C:\\Users\\djaym7\\Desktop\\Github\\EmotionRecognition\\AudioWAV/1008_DFA_ANG_XX.wav\n",
      "C:\\Users\\djaym7\\Desktop\\Github\\EmotionRecognition\\AudioWAV/1009_DFA_ANG_XX.wav\n",
      "C:\\Users\\djaym7\\Desktop\\Github\\EmotionRecognition\\AudioWAV/1010_DFA_ANG_XX.wav\n",
      "C:\\Users\\djaym7\\Desktop\\Github\\EmotionRecognition\\AudioWAV/1011_DFA_ANG_XX.wav\n",
      "C:\\Users\\djaym7\\Desktop\\Github\\EmotionRecognition\\AudioWAV/1012_DFA_ANG_XX.wav\n",
      "C:\\Users\\djaym7\\Desktop\\Github\\EmotionRecognition\\AudioWAV/1013_DFA_ANG_XX.wav\n",
      "C:\\Users\\djaym7\\Desktop\\Github\\EmotionRecognition\\AudioWAV/1014_DFA_ANG_XX.wav\n",
      "C:\\Users\\djaym7\\Desktop\\Github\\EmotionRecognition\\AudioWAV/1015_DFA_ANG_XX.wav\n",
      "C:\\Users\\djaym7\\Desktop\\Github\\EmotionRecognition\\AudioWAV/1016_DFA_ANG_XX.wav\n",
      "C:\\Users\\djaym7\\Desktop\\Github\\EmotionRecognition\\AudioWAV/1017_DFA_ANG_XX.wav\n",
      "C:\\Users\\djaym7\\Desktop\\Github\\EmotionRecognition\\AudioWAV/1018_DFA_ANG_XX.wav\n",
      "C:\\Users\\djaym7\\Desktop\\Github\\EmotionRecognition\\AudioWAV/1019_DFA_ANG_XX.wav\n",
      "C:\\Users\\djaym7\\Desktop\\Github\\EmotionRecognition\\AudioWAV/1020_DFA_ANG_XX.wav\n",
      "C:\\Users\\djaym7\\Desktop\\Github\\EmotionRecognition\\AudioWAV/1021_DFA_ANG_XX.wav\n",
      "C:\\Users\\djaym7\\Desktop\\Github\\EmotionRecognition\\AudioWAV/1022_DFA_ANG_XX.wav\n",
      "C:\\Users\\djaym7\\Desktop\\Github\\EmotionRecognition\\AudioWAV/1023_DFA_ANG_XX.wav\n",
      "C:\\Users\\djaym7\\Desktop\\Github\\EmotionRecognition\\AudioWAV/1024_DFA_ANG_XX.wav\n",
      "C:\\Users\\djaym7\\Desktop\\Github\\EmotionRecognition\\AudioWAV/1025_DFA_ANG_XX.wav\n",
      "C:\\Users\\djaym7\\Desktop\\Github\\EmotionRecognition\\AudioWAV/1026_DFA_ANG_XX.wav\n",
      "C:\\Users\\djaym7\\Desktop\\Github\\EmotionRecognition\\AudioWAV/1027_DFA_ANG_XX.wav\n",
      "C:\\Users\\djaym7\\Desktop\\Github\\EmotionRecognition\\AudioWAV/1028_DFA_ANG_XX.wav\n",
      "C:\\Users\\djaym7\\Desktop\\Github\\EmotionRecognition\\AudioWAV/1029_DFA_ANG_XX.wav\n",
      "C:\\Users\\djaym7\\Desktop\\Github\\EmotionRecognition\\AudioWAV/1030_DFA_ANG_XX.wav\n",
      "C:\\Users\\djaym7\\Desktop\\Github\\EmotionRecognition\\AudioWAV/1031_DFA_ANG_XX.wav\n",
      "C:\\Users\\djaym7\\Desktop\\Github\\EmotionRecognition\\AudioWAV/1032_DFA_ANG_XX.wav\n",
      "C:\\Users\\djaym7\\Desktop\\Github\\EmotionRecognition\\AudioWAV/1033_DFA_ANG_XX.wav\n",
      "C:\\Users\\djaym7\\Desktop\\Github\\EmotionRecognition\\AudioWAV/1034_DFA_ANG_XX.wav\n",
      "C:\\Users\\djaym7\\Desktop\\Github\\EmotionRecognition\\AudioWAV/1035_DFA_ANG_XX.wav\n",
      "C:\\Users\\djaym7\\Desktop\\Github\\EmotionRecognition\\AudioWAV/1036_DFA_ANG_XX.wav\n",
      "C:\\Users\\djaym7\\Desktop\\Github\\EmotionRecognition\\AudioWAV/1037_DFA_ANG_XX.wav\n",
      "C:\\Users\\djaym7\\Desktop\\Github\\EmotionRecognition\\AudioWAV/1038_DFA_ANG_XX.wav\n",
      "C:\\Users\\djaym7\\Desktop\\Github\\EmotionRecognition\\AudioWAV/1039_DFA_ANG_XX.wav\n",
      "C:\\Users\\djaym7\\Desktop\\Github\\EmotionRecognition\\AudioWAV/1040_DFA_ANG_XX.wav\n",
      "C:\\Users\\djaym7\\Desktop\\Github\\EmotionRecognition\\AudioWAV/1041_DFA_ANG_XX.wav\n",
      "C:\\Users\\djaym7\\Desktop\\Github\\EmotionRecognition\\AudioWAV/1042_DFA_ANG_XX.wav\n",
      "C:\\Users\\djaym7\\Desktop\\Github\\EmotionRecognition\\AudioWAV/1043_DFA_ANG_XX.wav\n",
      "C:\\Users\\djaym7\\Desktop\\Github\\EmotionRecognition\\AudioWAV/1044_DFA_ANG_XX.wav\n",
      "C:\\Users\\djaym7\\Desktop\\Github\\EmotionRecognition\\AudioWAV/1045_DFA_ANG_XX.wav\n",
      "C:\\Users\\djaym7\\Desktop\\Github\\EmotionRecognition\\AudioWAV/1046_DFA_ANG_XX.wav\n",
      "C:\\Users\\djaym7\\Desktop\\Github\\EmotionRecognition\\AudioWAV/1047_DFA_ANG_XX.wav\n",
      "C:\\Users\\djaym7\\Desktop\\Github\\EmotionRecognition\\AudioWAV/1048_DFA_ANG_XX.wav\n",
      "C:\\Users\\djaym7\\Desktop\\Github\\EmotionRecognition\\AudioWAV/1049_DFA_ANG_XX.wav\n",
      "C:\\Users\\djaym7\\Desktop\\Github\\EmotionRecognition\\AudioWAV/1050_DFA_ANG_XX.wav\n",
      "C:\\Users\\djaym7\\Desktop\\Github\\EmotionRecognition\\AudioWAV/1051_DFA_ANG_XX.wav\n",
      "C:\\Users\\djaym7\\Desktop\\Github\\EmotionRecognition\\AudioWAV/1052_DFA_ANG_XX.wav\n",
      "C:\\Users\\djaym7\\Desktop\\Github\\EmotionRecognition\\AudioWAV/1053_DFA_ANG_XX.wav\n",
      "C:\\Users\\djaym7\\Desktop\\Github\\EmotionRecognition\\AudioWAV/1054_DFA_ANG_XX.wav\n",
      "C:\\Users\\djaym7\\Desktop\\Github\\EmotionRecognition\\AudioWAV/1055_DFA_ANG_XX.wav\n",
      "C:\\Users\\djaym7\\Desktop\\Github\\EmotionRecognition\\AudioWAV/1056_DFA_ANG_XX.wav\n",
      "C:\\Users\\djaym7\\Desktop\\Github\\EmotionRecognition\\AudioWAV/1057_DFA_ANG_XX.wav\n",
      "C:\\Users\\djaym7\\Desktop\\Github\\EmotionRecognition\\AudioWAV/1058_DFA_ANG_XX.wav\n",
      "C:\\Users\\djaym7\\Desktop\\Github\\EmotionRecognition\\AudioWAV/1059_DFA_ANG_XX.wav\n",
      "C:\\Users\\djaym7\\Desktop\\Github\\EmotionRecognition\\AudioWAV/1060_DFA_ANG_XX.wav\n",
      "C:\\Users\\djaym7\\Desktop\\Github\\EmotionRecognition\\AudioWAV/1061_DFA_ANG_XX.wav\n",
      "C:\\Users\\djaym7\\Desktop\\Github\\EmotionRecognition\\AudioWAV/1062_DFA_ANG_XX.wav\n",
      "C:\\Users\\djaym7\\Desktop\\Github\\EmotionRecognition\\AudioWAV/1063_DFA_ANG_XX.wav\n",
      "C:\\Users\\djaym7\\Desktop\\Github\\EmotionRecognition\\AudioWAV/1064_DFA_ANG_XX.wav\n",
      "C:\\Users\\djaym7\\Desktop\\Github\\EmotionRecognition\\AudioWAV/1065_DFA_ANG_XX.wav\n",
      "C:\\Users\\djaym7\\Desktop\\Github\\EmotionRecognition\\AudioWAV/1066_DFA_ANG_XX.wav\n",
      "C:\\Users\\djaym7\\Desktop\\Github\\EmotionRecognition\\AudioWAV/1067_DFA_ANG_XX.wav\n",
      "C:\\Users\\djaym7\\Desktop\\Github\\EmotionRecognition\\AudioWAV/1068_DFA_ANG_XX.wav\n",
      "C:\\Users\\djaym7\\Desktop\\Github\\EmotionRecognition\\AudioWAV/1069_DFA_ANG_XX.wav\n",
      "C:\\Users\\djaym7\\Desktop\\Github\\EmotionRecognition\\AudioWAV/1070_DFA_ANG_XX.wav\n",
      "C:\\Users\\djaym7\\Desktop\\Github\\EmotionRecognition\\AudioWAV/1071_DFA_ANG_XX.wav\n",
      "C:\\Users\\djaym7\\Desktop\\Github\\EmotionRecognition\\AudioWAV/1072_DFA_ANG_XX.wav\n",
      "C:\\Users\\djaym7\\Desktop\\Github\\EmotionRecognition\\AudioWAV/1073_DFA_ANG_XX.wav\n",
      "C:\\Users\\djaym7\\Desktop\\Github\\EmotionRecognition\\AudioWAV/1074_DFA_ANG_XX.wav\n",
      "C:\\Users\\djaym7\\Desktop\\Github\\EmotionRecognition\\AudioWAV/1075_DFA_ANG_XX.wav\n",
      "C:\\Users\\djaym7\\Desktop\\Github\\EmotionRecognition\\AudioWAV/1076_DFA_ANG_XX.wav\n",
      "C:\\Users\\djaym7\\Desktop\\Github\\EmotionRecognition\\AudioWAV/1077_DFA_ANG_XX.wav\n",
      "C:\\Users\\djaym7\\Desktop\\Github\\EmotionRecognition\\AudioWAV/1078_DFA_ANG_XX.wav\n",
      "C:\\Users\\djaym7\\Desktop\\Github\\EmotionRecognition\\AudioWAV/1079_DFA_ANG_XX.wav\n",
      "C:\\Users\\djaym7\\Desktop\\Github\\EmotionRecognition\\AudioWAV/1080_DFA_ANG_XX.wav\n",
      "C:\\Users\\djaym7\\Desktop\\Github\\EmotionRecognition\\AudioWAV/1081_DFA_ANG_XX.wav\n",
      "C:\\Users\\djaym7\\Desktop\\Github\\EmotionRecognition\\AudioWAV/1082_DFA_ANG_XX.wav\n",
      "C:\\Users\\djaym7\\Desktop\\Github\\EmotionRecognition\\AudioWAV/1083_DFA_ANG_XX.wav\n",
      "C:\\Users\\djaym7\\Desktop\\Github\\EmotionRecognition\\AudioWAV/1084_DFA_ANG_XX.wav\n",
      "C:\\Users\\djaym7\\Desktop\\Github\\EmotionRecognition\\AudioWAV/1085_DFA_ANG_XX.wav\n",
      "C:\\Users\\djaym7\\Desktop\\Github\\EmotionRecognition\\AudioWAV/1086_DFA_ANG_XX.wav\n",
      "C:\\Users\\djaym7\\Desktop\\Github\\EmotionRecognition\\AudioWAV/1087_DFA_ANG_XX.wav\n",
      "C:\\Users\\djaym7\\Desktop\\Github\\EmotionRecognition\\AudioWAV/1088_DFA_ANG_XX.wav\n",
      "C:\\Users\\djaym7\\Desktop\\Github\\EmotionRecognition\\AudioWAV/1089_DFA_ANG_XX.wav\n",
      "C:\\Users\\djaym7\\Desktop\\Github\\EmotionRecognition\\AudioWAV/1090_DFA_ANG_XX.wav\n",
      "C:\\Users\\djaym7\\Desktop\\Github\\EmotionRecognition\\AudioWAV/1091_DFA_ANG_XX.wav\n"
     ]
    }
   ],
   "source": [
    "#forSoundnet\n",
    "data=[]\n",
    "\n",
    "for id in total_num_people:\n",
    "    id_data=[]\n",
    "    for fname,label in FileNames:\n",
    "        if id in fname:  \n",
    "            print(address+fname)\n",
    "            \n",
    "            audio = snd.load_audio(address+fname)\n",
    "            \n",
    "\n",
    "            id_data.append((audio,label)) \n",
    "            break\n",
    "    data.append((id_data,id))\n",
    "data = np.array(data)"
   ]
  },
  {
   "cell_type": "code",
   "execution_count": 14,
   "metadata": {},
   "outputs": [],
   "source": [
    "import pickle\n",
    "\n",
    "for id in total_num_people:\n",
    "    X_test_data=[]\n",
    "    y_test_data=[]\n",
    "    X_train_data=[]\n",
    "    y_train_data=[]\n",
    "    for value,vid in data:        \n",
    "        if vid == id:\n",
    "            for m,n in value:\n",
    "                #print(f'Test id {vid} m shape : {np.array(m).shape}  n shape : {np.array(n).shape}')\n",
    "                X_test_data.append(m)\n",
    "                y_test_data.append(n)      \n",
    "        else:\n",
    "            for m,n in value:\n",
    "                \n",
    "                #print(f'Train id {vid} m shape : {np.array(m).shape}  n shape : {np.array(n).shape}')\n",
    "                X_train_data.append(m)\n",
    "                y_train_data.append(n)\n",
    "                \n",
    "    with open(f'X_train_{id}','wb') as f:\n",
    "        pickle.dump(X_train_data,f)\n",
    "    with open(f'y_train_{id}','wb') as f:\n",
    "        pickle.dump(y_train_data,f)\n",
    "    with open(f'X_test_{id}','wb') as f:\n",
    "        pickle.dump(X_test_data,f)\n",
    "    with open(f'y_test_{id}','wb') as f:\n",
    "        pickle.dump(y_test_data,f)"
   ]
  }
 ],
 "metadata": {
  "kernelspec": {
   "display_name": "Python 3",
   "language": "python",
   "name": "python3"
  },
  "language_info": {
   "codemirror_mode": {
    "name": "ipython",
    "version": 3
   },
   "file_extension": ".py",
   "mimetype": "text/x-python",
   "name": "python",
   "nbconvert_exporter": "python",
   "pygments_lexer": "ipython3",
   "version": "3.6.5"
  }
 },
 "nbformat": 4,
 "nbformat_minor": 2
}
