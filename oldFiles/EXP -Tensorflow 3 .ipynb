{
 "cells": [
  {
   "cell_type": "code",
   "execution_count": null,
   "metadata": {},
   "outputs": [],
   "source": [
    "from keras.layers import Bidirectional, Concatenate, Permute, Dot, Input, CuDNNLSTM, Multiply,Dropout\n",
    "from keras.layers import RepeatVector, Dense, Activation, Lambda\n",
    "from keras.optimizers import Adam\n",
    "from keras.utils import to_categorical\n",
    "from keras.models import load_model, Model\n",
    "import keras.backend as K\n",
    "import numpy as np\n",
    "import pickle"
   ]
  },
  {
   "cell_type": "code",
   "execution_count": null,
   "metadata": {},
   "outputs": [],
   "source": [
    "def loadData(id):\n",
    "    with open(f'C:\\\\Users\\\\djaym7\\\\Desktop\\\\Github\\\\EmotionRecognition\\\\data 02\\\\y_train_{id}','rb') as f:\n",
    "        y_train=np.array(pickle.load(f))\n",
    "    with open(f'C:\\\\Users\\\\djaym7\\\\Desktop\\\\Github\\\\EmotionRecognition\\\\data 02\\\\y_test_{id}','rb') as f:\n",
    "        y_test=np.array(pickle.load(f))\n",
    "    with open(f'C:\\\\Users\\\\djaym7\\\\Desktop\\\\Github\\\\EmotionRecognition\\\\data 02\\\\X_train_{id}','rb') as f:\n",
    "        X_train = np.array(pickle.load(f))\n",
    "    with open(f'C:\\\\Users\\\\djaym7\\\\Desktop\\\\Github\\\\EmotionRecognition\\\\data 02\\\\X_test_{id}','rb') as f:\n",
    "        X_test = np.array(pickle.load(f))\n",
    "\n",
    "    \n",
    "\n",
    "    from sklearn.preprocessing import LabelBinarizer\n",
    "    encoder = LabelBinarizer()\n",
    "    y_train = encoder.fit_transform(y_train)\n",
    "    y_test = encoder.fit_transform(y_test)\n",
    "\n",
    "\n",
    "    print('X_train:',X_train.shape)\n",
    "    print('X_test:',X_test.shape)\n",
    "    print('y_train',y_train.shape) \n",
    "    print('y_test',y_test.shape) \n",
    "\n",
    "   \n",
    "    return X_train,y_train,X_test,y_test\n"
   ]
  },
  {
   "cell_type": "code",
   "execution_count": null,
   "metadata": {},
   "outputs": [],
   "source": [
    "X_train,y_train,X_test,y_test=loadData(1001)\n",
    "#input_shape = batch_size,time_steps,input_dim\n",
    "\n",
    "#batch_size = X_train.shape[0]   #automatically taken no need to specify\n",
    "time_steps = X_train.shape[1]\n",
    "input_dim = X_train.shape[2]"
   ]
  },
  {
   "cell_type": "code",
   "execution_count": null,
   "metadata": {},
   "outputs": [],
   "source": [
    "# Defined shared layers as global variables\n",
    "repeator = RepeatVector(time_steps) #500\n",
    "concatenator = Concatenate(axis=-1)\n",
    "densor = Dense(1, activation = \"relu\")\n",
    "activator = Activation('softmax', name='attention_weights') # We are using a custom softmax(axis = 1) loaded in this notebook\n",
    "dotor = Dot(axes = 1)"
   ]
  },
  {
   "cell_type": "code",
   "execution_count": null,
   "metadata": {},
   "outputs": [],
   "source": [
    "#one step attention\n",
    "\n",
    "def one_step_attention(a,s_prev):\n",
    "    \n",
    "    s_prev = repeator(s_prev)\n",
    "    concat = concatenator([a,s_prev])\n",
    "    e = densor(concat)\n",
    "    alphas = activator(e)\n",
    "    context = dotor([alphas, a])\n",
    "    \n",
    "    return context"
   ]
  },
  {
   "cell_type": "code",
   "execution_count": null,
   "metadata": {},
   "outputs": [],
   "source": [
    "hid_pre_act = 16\n",
    "hid_post_act = 96\n",
    "post_activation_lstm_cell = CuDNNLSTM(hid_post_act,return_state=True)\n",
    "#output_layer = Dense(128,activation='relu')\n",
    "#onemore = Dense(64,activation='relu')\n",
    "fin_out = Dense(6,activation='softmax')"
   ]
  },
  {
   "cell_type": "code",
   "execution_count": null,
   "metadata": {},
   "outputs": [],
   "source": [
    "# model\n",
    "\n",
    "def model(time_steps,input_dim,hid_post_act,hid_pre_act):\n",
    "       \n",
    "    X = Input(shape =(time_steps,input_dim))\n",
    "    s0 = Input(shape=(hid_post_act,),name='s0')\n",
    "    c0 = Input(shape=(hid_post_act,),name='c0')\n",
    "    s=s0\n",
    "    c=c0\n",
    "    outputs=[]\n",
    "    \n",
    "    \n",
    "    \n",
    "    a = CuDNNLSTM(hid_pre_act,return_sequences=True)(X)\n",
    "    a = Dropout(0.4)(a)\n",
    "    #6 is final output size\n",
    "    for t in range(1):\n",
    "        context =one_step_attention(a,s)\n",
    "        s, _, c = post_activation_lstm_cell(context, initial_state=[s, c])\n",
    "        #out = output_layer(s)\n",
    "        #o = onemore(out)\n",
    "        k=fin_out(s)\n",
    "        outputs.append(k)\n",
    "    \n",
    "        \n",
    "    model = Model([X, s0, c0], outputs)\n",
    "    \n",
    "    return model       "
   ]
  },
  {
   "cell_type": "code",
   "execution_count": null,
   "metadata": {},
   "outputs": [],
   "source": [
    "model = model(time_steps,input_dim,hid_post_act,hid_pre_act)"
   ]
  },
  {
   "cell_type": "code",
   "execution_count": null,
   "metadata": {},
   "outputs": [],
   "source": [
    "model.summary()"
   ]
  },
  {
   "cell_type": "code",
   "execution_count": null,
   "metadata": {},
   "outputs": [],
   "source": [
    "opt = Adam(lr = 0.005, beta_1=0.9, beta_2=0.999, decay = 0.01)\n",
    "model.compile(loss='categorical_crossentropy', optimizer=opt, metrics=['accuracy'])"
   ]
  },
  {
   "cell_type": "code",
   "execution_count": null,
   "metadata": {},
   "outputs": [],
   "source": [
    "s0 = np.zeros((7360, hid_post_act))\n",
    "c0 = np.zeros((7360, hid_post_act))\n",
    "s0_t = np.zeros((82, hid_post_act))\n",
    "c0_t = np.zeros((82, hid_post_act))"
   ]
  },
  {
   "cell_type": "code",
   "execution_count": null,
   "metadata": {},
   "outputs": [],
   "source": [
    "model.fit([X_train, s0, c0], y_train, epochs=90,validation_data=([X_test,s0_t,c0_t],y_test))\n"
   ]
  },
  {
   "cell_type": "code",
   "execution_count": null,
   "metadata": {},
   "outputs": [],
   "source": [
    "K.clear_session()"
   ]
  }
 ],
 "metadata": {
  "kernelspec": {
   "display_name": "Python 3",
   "language": "python",
   "name": "python3"
  },
  "language_info": {
   "codemirror_mode": {
    "name": "ipython",
    "version": 3
   },
   "file_extension": ".py",
   "mimetype": "text/x-python",
   "name": "python",
   "nbconvert_exporter": "python",
   "pygments_lexer": "ipython3",
   "version": "3.6.5"
  }
 },
 "nbformat": 4,
 "nbformat_minor": 2
}
