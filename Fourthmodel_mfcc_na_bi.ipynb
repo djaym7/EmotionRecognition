{
 "cells": [
  {
   "cell_type": "code",
   "execution_count": 1,
   "metadata": {
    "ExecuteTime": {
     "end_time": "2019-04-02T23:31:35.045994Z",
     "start_time": "2019-04-02T23:31:30.467608Z"
    }
   },
   "outputs": [
    {
     "name": "stderr",
     "output_type": "stream",
     "text": [
      "C:\\Users\\djaym7\\Anaconda3\\lib\\site-packages\\h5py\\__init__.py:36: FutureWarning: Conversion of the second argument of issubdtype from `float` to `np.floating` is deprecated. In future, it will be treated as `np.float64 == np.dtype(float).type`.\n",
      "  from ._conv import register_converters as _register_converters\n",
      "Using TensorFlow backend.\n"
     ]
    }
   ],
   "source": [
    "from keras.layers import Bidirectional, CuDNNLSTM, Multiply,Dropout\n",
    "from keras.layers import  Dense\n",
    "from keras.utils import to_categorical\n",
    "from keras.models import Sequential\n",
    "from keras.callbacks import ModelCheckpoint\n",
    "import numpy as np\n",
    "import pickle\n",
    "from sklearn.preprocessing import StandardScaler"
   ]
  },
  {
   "cell_type": "code",
   "execution_count": 2,
   "metadata": {
    "ExecuteTime": {
     "end_time": "2019-04-02T23:31:35.139339Z",
     "start_time": "2019-04-02T23:31:35.134342Z"
    }
   },
   "outputs": [],
   "source": [
    "address = 'D:\\\\data_mfcc\\\\'"
   ]
  },
  {
   "cell_type": "code",
   "execution_count": 3,
   "metadata": {
    "ExecuteTime": {
     "end_time": "2019-04-02T23:31:35.159330Z",
     "start_time": "2019-04-02T23:31:35.143338Z"
    }
   },
   "outputs": [],
   "source": [
    "def loadData(id):\n",
    "    with open(address + f'y_train_{id}','rb') as f:\n",
    "        y_train=np.array(pickle.load(f))\n",
    "    with open(address+f'y_test_{id}','rb') as f:\n",
    "        y_test=np.array(pickle.load(f))\n",
    "    with open(address+ f'X_train_{id}','rb') as f:\n",
    "        X_train = np.array(pickle.load(f))\n",
    "    with open(address+f'X_test_{id}','rb') as f:\n",
    "        X_test = np.array(pickle.load(f))\n",
    "\n",
    "    scalers = {}\n",
    "    for k in range(X_train.shape[2]):\n",
    "        scalers[k] = StandardScaler()\n",
    "        X_train[:, k, :] = scalers[k].fit_transform(X_train[:, k, :]) \n",
    "\n",
    "    for j in range(X_test.shape[2]):\n",
    "        X_test[:, j, :] = scalers[j].transform(X_test[:, j, :])\n",
    "    \n",
    "    print(f'id : {id}')\n",
    "    from sklearn.preprocessing import LabelBinarizer\n",
    "    encoder = LabelBinarizer()\n",
    "    y_train = encoder.fit_transform(y_train)\n",
    "    y_test = encoder.fit_transform(y_test)\n",
    "\n",
    "   \n",
    "    return X_train,y_train,X_test,y_test"
   ]
  },
  {
   "cell_type": "code",
   "execution_count": null,
   "metadata": {
    "ExecuteTime": {
     "start_time": "2019-04-02T23:31:30.513Z"
    }
   },
   "outputs": [
    {
     "name": "stdout",
     "output_type": "stream",
     "text": [
      "id : 1016\n",
      "id : 1016\n",
      "Train on 7360 samples, validate on 82 samples\n",
      "Epoch 1/150\n",
      "7360/7360 [==============================] - 29s 4ms/step - loss: 1.7950 - acc: 0.1689 - val_loss: 1.7958 - val_acc: 0.1585\n",
      "\n",
      "Epoch 00001: val_acc improved from -inf to 0.15854, saving model to C:\\Users\\djaym7\\Desktop\\Github\\EmotionRecognition\\saved_bi_na_models/NA1016.h5\n",
      "Epoch 2/150\n",
      "7360/7360 [==============================] - 23s 3ms/step - loss: 1.7917 - acc: 0.1764 - val_loss: 1.7802 - val_acc: 0.1829\n",
      "\n",
      "Epoch 00002: val_acc improved from 0.15854 to 0.18293, saving model to C:\\Users\\djaym7\\Desktop\\Github\\EmotionRecognition\\saved_bi_na_models/NA1016.h5\n",
      "Epoch 3/150\n",
      "7360/7360 [==============================] - 25s 3ms/step - loss: 1.7815 - acc: 0.1842 - val_loss: 1.7373 - val_acc: 0.2195\n",
      "\n",
      "Epoch 00003: val_acc improved from 0.18293 to 0.21951, saving model to C:\\Users\\djaym7\\Desktop\\Github\\EmotionRecognition\\saved_bi_na_models/NA1016.h5\n",
      "Epoch 4/150\n",
      "7360/7360 [==============================] - 23s 3ms/step - loss: 1.7466 - acc: 0.2351 - val_loss: 1.7238 - val_acc: 0.2561\n",
      "\n",
      "Epoch 00004: val_acc improved from 0.21951 to 0.25610, saving model to C:\\Users\\djaym7\\Desktop\\Github\\EmotionRecognition\\saved_bi_na_models/NA1016.h5\n",
      "Epoch 5/150\n",
      "7360/7360 [==============================] - 24s 3ms/step - loss: 1.7324 - acc: 0.2500 - val_loss: 1.7143 - val_acc: 0.2805\n",
      "\n",
      "Epoch 00005: val_acc improved from 0.25610 to 0.28049, saving model to C:\\Users\\djaym7\\Desktop\\Github\\EmotionRecognition\\saved_bi_na_models/NA1016.h5\n",
      "Epoch 6/150\n",
      "7360/7360 [==============================] - 24s 3ms/step - loss: 1.7213 - acc: 0.2497 - val_loss: 1.7391 - val_acc: 0.2073\n",
      "\n",
      "Epoch 00006: val_acc did not improve from 0.28049\n",
      "Epoch 7/150\n",
      "5800/7360 [======================>.......] - ETA: 4s - loss: 1.7141 - acc: 0.2505"
     ]
    }
   ],
   "source": [
    "total_num_people=[]\n",
    "for i in range(1,92):\n",
    "    if i <10:\n",
    "        total_num_people.append('100'+str(i))\n",
    "    else:\n",
    "        total_num_people.append('10'+str(i))\n",
    "\n",
    "for i in total_num_people[15:59]:\n",
    "    if int(i)<1078:\n",
    "        X_train=[]\n",
    "        X_test=[]\n",
    "        y_train=[]\n",
    "        y_test=[]\n",
    "        X_train,y_train,X_test,y_test=loadData(i)\n",
    "    else:\n",
    "        continue\n",
    "\n",
    "    time_steps = X_train.shape[1]\n",
    "    input_dim = X_train.shape[2]\n",
    "    model = Sequential()\n",
    "\n",
    "\n",
    "    model.add(Bidirectional(CuDNNLSTM(16,input_shape=(time_steps,input_dim),return_sequences=True)))\n",
    "    model.add(Dropout(0.4))\n",
    "    model.add(CuDNNLSTM(96))\n",
    "    model.add(Dense(6,activation='softmax'))\n",
    " \n",
    "\n",
    "    \n",
    "    model.compile(loss='categorical_crossentropy', optimizer= 'adam', metrics=['accuracy'])\n",
    "    print(f'id : {i}')\n",
    "    filePath =r\"C:\\Users\\djaym7\\Desktop\\Github\\EmotionRecognition\\saved_bi_na_models\"+ f'/NA{i}.h5'\n",
    "    checkpoint = ModelCheckpoint(filepath=filePath,monitor='val_acc',mode='max',save_best_only=True,verbose=1,save_weights_only=False)\n",
    "            \n",
    "    model.fit(X_train, y_train,batch_size=100, epochs=150,validation_data=(X_test,y_test),callbacks=[checkpoint])\n",
    "    "
   ]
  }
 ],
 "metadata": {
  "kernelspec": {
   "display_name": "Python 3",
   "language": "python",
   "name": "python3"
  },
  "language_info": {
   "codemirror_mode": {
    "name": "ipython",
    "version": 3
   },
   "file_extension": ".py",
   "mimetype": "text/x-python",
   "name": "python",
   "nbconvert_exporter": "python",
   "pygments_lexer": "ipython3",
   "version": "3.6.5"
  }
 },
 "nbformat": 4,
 "nbformat_minor": 2
}
